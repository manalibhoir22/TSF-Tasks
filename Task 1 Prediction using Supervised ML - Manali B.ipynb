{
 "cells": [
  {
   "cell_type": "markdown",
   "metadata": {},
   "source": [
    "# Task 1 Prediction using Supervised ML\n",
    "# Aurthor: Manali Dharmendra Bhoir"
   ]
  },
  {
   "cell_type": "markdown",
   "metadata": {},
   "source": [
    "OBJECTIVE: Predict the percentage of a student based on the no. of study hours. Also, What will be predicted score, if a student studies for 9.25 hrs/ day?"
   ]
  },
  {
   "cell_type": "markdown",
   "metadata": {},
   "source": [
    "# Simple Linear Regression\n",
    "In this regression task we will predict the percentage of marks that a student is expected to score based upon the number of hours they studied. This is a simple linear regression task as it involves just two variables.\n",
    "\n",
    "Here, our dependent/Response variable(y) is percentage scores and independent/Predictor variable(x) is Hours Studied. "
   ]
  },
  {
   "cell_type": "markdown",
   "metadata": {},
   "source": [
    "# Libraries Required"
   ]
  },
  {
   "cell_type": "code",
   "execution_count": 1,
   "metadata": {},
   "outputs": [],
   "source": [
    "library(caTools) \n",
    "library(ggplot2)\n",
    "library(ggpubr)\n",
    "library(repr)"
   ]
  },
  {
   "cell_type": "markdown",
   "metadata": {},
   "source": [
    "# Importing the data"
   ]
  },
  {
   "cell_type": "code",
   "execution_count": 2,
   "metadata": {},
   "outputs": [
    {
     "data": {
      "text/html": [
       "<table class=\"dataframe\">\n",
       "<caption>A data.frame: 6 × 2</caption>\n",
       "<thead>\n",
       "\t<tr><th></th><th scope=col>Hours</th><th scope=col>Scores</th></tr>\n",
       "\t<tr><th></th><th scope=col>&lt;dbl&gt;</th><th scope=col>&lt;int&gt;</th></tr>\n",
       "</thead>\n",
       "<tbody>\n",
       "\t<tr><th scope=row>1</th><td>2.5</td><td>21</td></tr>\n",
       "\t<tr><th scope=row>2</th><td>5.1</td><td>47</td></tr>\n",
       "\t<tr><th scope=row>3</th><td>3.2</td><td>27</td></tr>\n",
       "\t<tr><th scope=row>4</th><td>8.5</td><td>75</td></tr>\n",
       "\t<tr><th scope=row>5</th><td>3.5</td><td>30</td></tr>\n",
       "\t<tr><th scope=row>6</th><td>1.5</td><td>20</td></tr>\n",
       "</tbody>\n",
       "</table>\n"
      ],
      "text/latex": [
       "A data.frame: 6 × 2\n",
       "\\begin{tabular}{r|ll}\n",
       "  & Hours & Scores\\\\\n",
       "  & <dbl> & <int>\\\\\n",
       "\\hline\n",
       "\t1 & 2.5 & 21\\\\\n",
       "\t2 & 5.1 & 47\\\\\n",
       "\t3 & 3.2 & 27\\\\\n",
       "\t4 & 8.5 & 75\\\\\n",
       "\t5 & 3.5 & 30\\\\\n",
       "\t6 & 1.5 & 20\\\\\n",
       "\\end{tabular}\n"
      ],
      "text/markdown": [
       "\n",
       "A data.frame: 6 × 2\n",
       "\n",
       "| <!--/--> | Hours &lt;dbl&gt; | Scores &lt;int&gt; |\n",
       "|---|---|---|\n",
       "| 1 | 2.5 | 21 |\n",
       "| 2 | 5.1 | 47 |\n",
       "| 3 | 3.2 | 27 |\n",
       "| 4 | 8.5 | 75 |\n",
       "| 5 | 3.5 | 30 |\n",
       "| 6 | 1.5 | 20 |\n",
       "\n"
      ],
      "text/plain": [
       "  Hours Scores\n",
       "1 2.5   21    \n",
       "2 5.1   47    \n",
       "3 3.2   27    \n",
       "4 8.5   75    \n",
       "5 3.5   30    \n",
       "6 1.5   20    "
      ]
     },
     "metadata": {},
     "output_type": "display_data"
    },
    {
     "data": {
      "text/html": [
       "<style>\n",
       ".list-inline {list-style: none; margin:0; padding: 0}\n",
       ".list-inline>li {display: inline-block}\n",
       ".list-inline>li:not(:last-child)::after {content: \"\\00b7\"; padding: 0 .5ex}\n",
       "</style>\n",
       "<ol class=list-inline><li>25</li><li>2</li></ol>\n"
      ],
      "text/latex": [
       "\\begin{enumerate*}\n",
       "\\item 25\n",
       "\\item 2\n",
       "\\end{enumerate*}\n"
      ],
      "text/markdown": [
       "1. 25\n",
       "2. 2\n",
       "\n",
       "\n"
      ],
      "text/plain": [
       "[1] 25  2"
      ]
     },
     "metadata": {},
     "output_type": "display_data"
    }
   ],
   "source": [
    "data = read.csv(\"student_scores - student_scores.csv\")\n",
    "head(data)\n",
    "dim(data)\n",
    "attach(data)"
   ]
  },
  {
   "cell_type": "markdown",
   "metadata": {},
   "source": [
    "# Graphical Analysis"
   ]
  },
  {
   "cell_type": "markdown",
   "metadata": {},
   "source": [
    "Scatter plot:Visualize the linear relationship between the predictor and response\n",
    "\n",
    "Box plot: To spot any outlier observations in the variable."
   ]
  },
  {
   "cell_type": "code",
   "execution_count": 3,
   "metadata": {},
   "outputs": [
    {
     "data": {
      "image/png": "[encoded data removed]",
      "text/plain": [
       "Plot with title \"Scores ~ Hours\""
      ]
     },
     "metadata": {
      "image/png": {
       "height": 420,
       "width": 420
      }
     },
     "output_type": "display_data"
    }
   ],
   "source": [
    "scatter.smooth(x=Hours, y=Scores, main=\"Scores ~ Hours\",lpars =\n",
    "                    list(col = \"red\", lwd = 3, lty = 1),pch=19,cex=1.5,cex.main=1.5,cex.lab=1.5)  # scatterplot"
   ]
  },
  {
   "cell_type": "markdown",
   "metadata": {},
   "source": [
    "The scatter plot along with the smoothing line above suggests a linearly increasing relationship between the ‘Scores’ and ‘Hours’ variables."
   ]
  },
  {
   "cell_type": "code",
   "execution_count": 4,
   "metadata": {},
   "outputs": [
    {
     "data": {
      "image/png": "[encoded data removed]",
      "text/plain": [
       "Plot with title \"Scores\""
      ]
     },
     "metadata": {
      "image/png": {
       "height": 420,
       "width": 420
      }
     },
     "output_type": "display_data"
    }
   ],
   "source": [
    "par(mfrow=c(1, 2))  # divide graph area in 2 columns\n",
    "boxplot(Hours, main=\"Hours\", sub=paste(\"Outlier rows: \", boxplot.stats(Hours)$out))  # box plot for 'Hours'\n",
    "boxplot(Scores, main=\"Scores\", sub=paste(\"Outlier rows: \", boxplot.stats(Scores)$out))  # box plot for 'Scores'"
   ]
  },
  {
   "cell_type": "markdown",
   "metadata": {},
   "source": [
    "CORRELATION : To check linear dependence between two variables"
   ]
  },
  {
   "cell_type": "code",
   "execution_count": 5,
   "metadata": {},
   "outputs": [
    {
     "data": {
      "text/html": [
       "0.976190656022089"
      ],
      "text/latex": [
       "0.976190656022089"
      ],
      "text/markdown": [
       "0.976190656022089"
      ],
      "text/plain": [
       "[1] 0.9761907"
      ]
     },
     "metadata": {},
     "output_type": "display_data"
    }
   ],
   "source": [
    "cor(Hours,Scores)"
   ]
  },
  {
   "cell_type": "markdown",
   "metadata": {},
   "source": [
    "Here, we see that there is high positive correlation between the variables."
   ]
  },
  {
   "cell_type": "markdown",
   "metadata": {},
   "source": [
    "# Build Linear Model on Full Data"
   ]
  },
  {
   "cell_type": "code",
   "execution_count": 16,
   "metadata": {},
   "outputs": [
    {
     "data": {
      "text/plain": [
       "\n",
       "Call:\n",
       "lm(formula = Scores ~ Hours, data = data)\n",
       "\n",
       "Residuals:\n",
       "    Min      1Q  Median      3Q     Max \n",
       "-10.578  -5.340   1.839   4.593   7.265 \n",
       "\n",
       "Coefficients:\n",
       "            Estimate Std. Error t value Pr(>|t|)    \n",
       "(Intercept)   2.4837     2.5317   0.981    0.337    \n",
       "Hours         9.7758     0.4529  21.583   <2e-16 ***\n",
       "---\n",
       "Signif. codes:  0 '***' 0.001 '**' 0.01 '*' 0.05 '.' 0.1 ' ' 1\n",
       "\n",
       "Residual standard error: 5.603 on 23 degrees of freedom\n",
       "Multiple R-squared:  0.9529,\tAdjusted R-squared:  0.9509 \n",
       "F-statistic: 465.8 on 1 and 23 DF,  p-value: < 2.2e-16\n"
      ]
     },
     "metadata": {},
     "output_type": "display_data"
    }
   ],
   "source": [
    "linearMod = lm(Scores~Hours, data=data)  # build linear regression model on full data\n",
    "summary(linearMod)"
   ]
  },
  {
   "cell_type": "markdown",
   "metadata": {},
   "source": [
    "For the above output, you can notice the ‘Coefficients’ part having two components: Intercept: 2.4837, Hours:  9.7758.\n",
    "These are also called the beta coefficients. In other words,\n",
    "Scores = Intercept + (β ∗ Hours)\n",
    "=> Scores = 2.4837 + 9.7758 ∗ Hours"
   ]
  },
  {
   "cell_type": "markdown",
   "metadata": {},
   "source": [
    "# Predicting Linear Model"
   ]
  },
  {
   "cell_type": "markdown",
   "metadata": {},
   "source": [
    "# 1. Spilting the data into Training and Testing set"
   ]
  },
  {
   "cell_type": "code",
   "execution_count": 7,
   "metadata": {},
   "outputs": [
    {
     "data": {
      "text/html": [
       "<style>\n",
       ".list-inline {list-style: none; margin:0; padding: 0}\n",
       ".list-inline>li {display: inline-block}\n",
       ".list-inline>li:not(:last-child)::after {content: \"\\00b7\"; padding: 0 .5ex}\n",
       "</style>\n",
       "<ol class=list-inline><li>18</li><li>2</li></ol>\n"
      ],
      "text/latex": [
       "\\begin{enumerate*}\n",
       "\\item 18\n",
       "\\item 2\n",
       "\\end{enumerate*}\n"
      ],
      "text/markdown": [
       "1. 18\n",
       "2. 2\n",
       "\n",
       "\n"
      ],
      "text/plain": [
       "[1] 18  2"
      ]
     },
     "metadata": {},
     "output_type": "display_data"
    },
    {
     "data": {
      "text/html": [
       "<style>\n",
       ".list-inline {list-style: none; margin:0; padding: 0}\n",
       ".list-inline>li {display: inline-block}\n",
       ".list-inline>li:not(:last-child)::after {content: \"\\00b7\"; padding: 0 .5ex}\n",
       "</style>\n",
       "<ol class=list-inline><li>7</li><li>2</li></ol>\n"
      ],
      "text/latex": [
       "\\begin{enumerate*}\n",
       "\\item 7\n",
       "\\item 2\n",
       "\\end{enumerate*}\n"
      ],
      "text/markdown": [
       "1. 7\n",
       "2. 2\n",
       "\n",
       "\n"
      ],
      "text/plain": [
       "[1] 7 2"
      ]
     },
     "metadata": {},
     "output_type": "display_data"
    }
   ],
   "source": [
    "set.seed(123) \n",
    "split = sample.split(Scores, SplitRatio = 3/4) \n",
    "training_set = subset(data, split == TRUE) \n",
    "test_set = subset(data, split == FALSE) \n",
    "dim(training_set);dim(test_set)"
   ]
  },
  {
   "cell_type": "markdown",
   "metadata": {},
   "source": [
    "# 2. Develop the model on the training data and use it to predict the Scores on test data\n",
    "i.e. Predicting the percentage of an student based on the no. of study hours"
   ]
  },
  {
   "cell_type": "code",
   "execution_count": 8,
   "metadata": {},
   "outputs": [
    {
     "data": {
      "text/html": [
       "<table class=\"dataframe\">\n",
       "<caption>A data.frame: 7 × 3</caption>\n",
       "<thead>\n",
       "\t<tr><th></th><th scope=col>Study Hours</th><th scope=col>Actual Scores</th><th scope=col>Predicted Scores</th></tr>\n",
       "\t<tr><th></th><th scope=col>&lt;dbl&gt;</th><th scope=col>&lt;int&gt;</th><th scope=col>&lt;dbl&gt;</th></tr>\n",
       "</thead>\n",
       "<tbody>\n",
       "\t<tr><th scope=row>5</th><td>3.5</td><td>30</td><td>36.59875</td></tr>\n",
       "\t<tr><th scope=row>8</th><td>5.5</td><td>60</td><td>55.20002</td></tr>\n",
       "\t<tr><th scope=row>11</th><td>7.7</td><td>85</td><td>75.66141</td></tr>\n",
       "\t<tr><th scope=row>16</th><td>8.9</td><td>95</td><td>86.82217</td></tr>\n",
       "\t<tr><th scope=row>20</th><td>7.4</td><td>69</td><td>72.87122</td></tr>\n",
       "\t<tr><th scope=row>21</th><td>2.7</td><td>30</td><td>29.15824</td></tr>\n",
       "\t<tr><th scope=row>24</th><td>6.9</td><td>76</td><td>68.22091</td></tr>\n",
       "</tbody>\n",
       "</table>\n"
      ],
      "text/latex": [
       "A data.frame: 7 × 3\n",
       "\\begin{tabular}{r|lll}\n",
       "  & Study Hours & Actual Scores & Predicted Scores\\\\\n",
       "  & <dbl> & <int> & <dbl>\\\\\n",
       "\\hline\n",
       "\t5 & 3.5 & 30 & 36.59875\\\\\n",
       "\t8 & 5.5 & 60 & 55.20002\\\\\n",
       "\t11 & 7.7 & 85 & 75.66141\\\\\n",
       "\t16 & 8.9 & 95 & 86.82217\\\\\n",
       "\t20 & 7.4 & 69 & 72.87122\\\\\n",
       "\t21 & 2.7 & 30 & 29.15824\\\\\n",
       "\t24 & 6.9 & 76 & 68.22091\\\\\n",
       "\\end{tabular}\n"
      ],
      "text/markdown": [
       "\n",
       "A data.frame: 7 × 3\n",
       "\n",
       "| <!--/--> | Study Hours &lt;dbl&gt; | Actual Scores &lt;int&gt; | Predicted Scores &lt;dbl&gt; |\n",
       "|---|---|---|---|\n",
       "| 5 | 3.5 | 30 | 36.59875 |\n",
       "| 8 | 5.5 | 60 | 55.20002 |\n",
       "| 11 | 7.7 | 85 | 75.66141 |\n",
       "| 16 | 8.9 | 95 | 86.82217 |\n",
       "| 20 | 7.4 | 69 | 72.87122 |\n",
       "| 21 | 2.7 | 30 | 29.15824 |\n",
       "| 24 | 6.9 | 76 | 68.22091 |\n",
       "\n"
      ],
      "text/plain": [
       "   Study Hours Actual Scores Predicted Scores\n",
       "5  3.5         30            36.59875        \n",
       "8  5.5         60            55.20002        \n",
       "11 7.7         85            75.66141        \n",
       "16 8.9         95            86.82217        \n",
       "20 7.4         69            72.87122        \n",
       "21 2.7         30            29.15824        \n",
       "24 6.9         76            68.22091        "
      ]
     },
     "metadata": {},
     "output_type": "display_data"
    }
   ],
   "source": [
    "regressor = lm(formula = Scores~Hours, data = training_set) \n",
    "\n",
    "y_pred = predict(regressor, newdata = test_set)\n",
    "\n",
    "df = data.frame(test_set,y_pred)\n",
    "\n",
    "names(df) = c(\"Study Hours\",\"Actual Scores\",\"Predicted Scores\");df"
   ]
  },
  {
   "cell_type": "markdown",
   "metadata": {},
   "source": [
    "# 3. Review diagnostic measures"
   ]
  },
  {
   "cell_type": "code",
   "execution_count": 9,
   "metadata": {},
   "outputs": [
    {
     "data": {
      "text/plain": [
       "\n",
       "Call:\n",
       "lm(formula = Scores ~ Hours, data = training_set)\n",
       "\n",
       "Residuals:\n",
       "    Min      1Q  Median      3Q     Max \n",
       "-8.1019 -4.4571  0.8804  2.9905  9.4085 \n",
       "\n",
       "Coefficients:\n",
       "            Estimate Std. Error t value Pr(>|t|)    \n",
       "(Intercept)   4.0465     2.7108   1.493    0.155    \n",
       "Hours         9.3006     0.5194  17.908 5.22e-12 ***\n",
       "---\n",
       "Signif. codes:  0 '***' 0.001 '**' 0.01 '*' 0.05 '.' 0.1 ' ' 1\n",
       "\n",
       "Residual standard error: 5.457 on 16 degrees of freedom\n",
       "Multiple R-squared:  0.9525,\tAdjusted R-squared:  0.9495 \n",
       "F-statistic: 320.7 on 1 and 16 DF,  p-value: 5.219e-12\n"
      ]
     },
     "metadata": {},
     "output_type": "display_data"
    }
   ],
   "source": [
    "summary(regressor)"
   ]
  },
  {
   "cell_type": "markdown",
   "metadata": {},
   "source": [
    "From the model summary, the model p value and predictor’s p value are less than the significance level, so we know we have a statistically significant model. Also, the R-Sq and Adj R-Sq are comparative to the original model built on full data."
   ]
  },
  {
   "cell_type": "markdown",
   "metadata": {},
   "source": [
    "#  4: Calculate prediction accuracy and error rates"
   ]
  },
  {
   "cell_type": "code",
   "execution_count": 17,
   "metadata": {},
   "outputs": [
    {
     "name": "stdout",
     "output_type": "stream",
     "text": [
      "The Correlation Accuracy 0.9799053\n",
      "The MinMaxAccuracy is  0.9086019\n",
      "The Mean Absolute Percentage Error (MAPE) is  0.09748942"
     ]
    }
   ],
   "source": [
    "actuals_preds = data.frame(cbind(actual=test_set$Scores, predicted=y_pred))  # make actuals_predicteds dataframe.\n",
    "\n",
    "corr=cor(df$`Actual Scores`,df$`Predicted Scores`)\n",
    "cat(\"The Correlation Accuracy\",corr)\n",
    "\n",
    "min_max_accuracy = mean(apply(actuals_preds, 1, min) / apply(actuals_preds, 1, max));\n",
    "cat(\"\\nThe MinMaxAccuracy is \",min_max_accuracy) \n",
    "\n",
    "mape = mean(abs((actuals_preds$predicted - actuals_preds$actual))/actuals_preds$actual) \n",
    "cat(\"\\nThe Mean Absolute Percentage Error (MAPE) is \",mape)\n"
   ]
  },
  {
   "cell_type": "markdown",
   "metadata": {},
   "source": [
    "#  Visualizing the Training Set results and Testing Set Results"
   ]
  },
  {
   "cell_type": "code",
   "execution_count": 18,
   "metadata": {},
   "outputs": [
    {
     "data": {
      "image/png": "[encoded data removed]",
      "text/plain": [
       "plot without title"
      ]
     },
     "metadata": {
      "image/png": {
       "height": 480,
       "width": 780
      }
     },
     "output_type": "display_data"
    }
   ],
   "source": [
    "mytheme = theme(plot.title = element_text(face = \"bold\", size = 20),\n",
    "                axis.title=element_text(face = \"bold\", size=15))\n",
    "\n",
    "# Visualising the Training set results \n",
    "A = ggplot() + geom_point(aes(x = training_set$Hours,y = training_set$Scores),colour = 'red' , size = 3) + \n",
    "    geom_line(aes(x = training_set$Hours,y = predict(regressor, newdata = training_set)),colour = 'blue',size = 1) + \n",
    "    mytheme + ggtitle('Scores vs Hours (Training set)') + \n",
    "    xlab('Hours') + ylab('Scores') \n",
    "\n",
    "#Visualising the Testing set results \n",
    "B = ggplot() + geom_point(aes(x = test_set$Hours,y = test_set$Scores),colour = 'red',size=3) + \n",
    "    geom_line(aes(x = training_set$Hours,y = predict(regressor, newdata = training_set)),colour = 'blue',size=1) + \n",
    "    ggtitle('Scores vs Hours (Test Set)') + mytheme +\n",
    "    xlab('Hours') + ylab('Scores')\n",
    "\n",
    "options(repr.plot.width = 13, repr.plot.height = 8)\n",
    "\n",
    "ggarrange(A, B + rremove(\"x.text\"),labels = c(),ncol = 2, nrow = 1)"
   ]
  },
  {
   "cell_type": "markdown",
   "metadata": {},
   "source": [
    "# What will be predicted score if a student studies for 9.25 hrs/ day?"
   ]
  },
  {
   "cell_type": "code",
   "execution_count": 20,
   "metadata": {},
   "outputs": [
    {
     "name": "stdout",
     "output_type": "stream",
     "text": [
      "If a student studies for 9.25hrs/day \n",
      "Then the predicted score he/she will get is: 90.07739"
     ]
    }
   ],
   "source": [
    "new=data.frame(Hours=9.25)\n",
    "pred=predict(regressor,new)\n",
    "\n",
    "cat(\"If a student studies for 9.25hrs/day \\n\")\n",
    "cat(\"Then the predicted score he/she will get is:\",pred)"
   ]
  },
  {
   "cell_type": "markdown",
   "metadata": {},
   "source": [
    "# Thank You\n",
    "- Manali Bhoir"
   ]
  },
  {
   "cell_type": "code",
   "execution_count": null,
   "metadata": {},
   "outputs": [],
   "source": []
  }
 ],
 "metadata": {
  "kernelspec": {
   "display_name": "R",
   "language": "R",
   "name": "ir"
  },
  "language_info": {
   "codemirror_mode": "r",
   "file_extension": ".r",
   "mimetype": "text/x-r-source",
   "name": "R",
   "pygments_lexer": "r",
   "version": "4.0.3"
  }
 },
 "nbformat": 4,
 "nbformat_minor": 4
}
